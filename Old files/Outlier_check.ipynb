{
 "cells": [
  {
   "cell_type": "code",
   "execution_count": 1,
   "id": "74537c82-49ab-43c6-b7a0-accc0e26019d",
   "metadata": {},
   "outputs": [],
   "source": [
    "import matplotlib.pyplot as plt"
   ]
  },
  {
   "cell_type": "code",
   "execution_count": null,
   "id": "b403802c-07b4-4fe2-b87c-314b6aafa159",
   "metadata": {},
   "outputs": [],
   "source": [
    "diabetes1_df = pd.read_csv('diabetes.csv')\n",
    "diabetes2_df = pd.read_csv('train.csv')"
   ]
  },
  {
   "cell_type": "code",
   "execution_count": null,
   "id": "cae90f75-6c16-4190-a741-447e11d49de4",
   "metadata": {},
   "outputs": [],
   "source": [
    "diabetes2_renamed = diabetes2_df.rename(columns = {'no_times_pregnant':'Pregnancies', 'glucose_concentration':'Glucose', 'blood_pressure':'BloodPressure', 'skin_fold_thickness':'SkinThickness', 'serum_insulin': 'Insulin', 'bmi':'BMI', 'diabetes pedigree': 'DiabetesPedigreeFunction', 'age': 'Age', 'diabetes': 'Outcome'})\n"
   ]
  },
  {
   "cell_type": "code",
   "execution_count": null,
   "id": "1afbfd80-6004-44ed-bf27-519464fe0020",
   "metadata": {},
   "outputs": [],
   "source": [
    "diabetes2_clean = diabetes2_renamed.drop('p_id', axis =1)\n"
   ]
  },
  {
   "cell_type": "code",
   "execution_count": null,
   "id": "4b0c2657-2a5c-41e9-a95f-057b73afcb42",
   "metadata": {},
   "outputs": [],
   "source": [
    "test_df = pd.read_csv('test.csv')\n"
   ]
  },
  {
   "cell_type": "code",
   "execution_count": 2,
   "id": "cfb02d41-f165-49d6-b97a-bc3266466bba",
   "metadata": {
    "tags": []
   },
   "outputs": [
    {
     "ename": "NameError",
     "evalue": "name 'test_df' is not defined",
     "output_type": "error",
     "traceback": [
      "\u001b[1;31m---------------------------------------------------------------------------\u001b[0m",
      "\u001b[1;31mNameError\u001b[0m                                 Traceback (most recent call last)",
      "\u001b[1;32m<ipython-input-2-9a509f02d230>\u001b[0m in \u001b[0;36m<module>\u001b[1;34m\u001b[0m\n\u001b[1;32m----> 1\u001b[1;33m \u001b[0mtest_renamed\u001b[0m \u001b[1;33m=\u001b[0m \u001b[0mtest_df\u001b[0m\u001b[1;33m.\u001b[0m\u001b[0mrename\u001b[0m\u001b[1;33m(\u001b[0m\u001b[0mcolumns\u001b[0m \u001b[1;33m=\u001b[0m \u001b[1;33m{\u001b[0m\u001b[1;34m'no_times_pregnant'\u001b[0m\u001b[1;33m:\u001b[0m\u001b[1;34m'Pregnancies'\u001b[0m\u001b[1;33m,\u001b[0m \u001b[1;34m'glucose_concentration'\u001b[0m\u001b[1;33m:\u001b[0m\u001b[1;34m'Glucose'\u001b[0m\u001b[1;33m,\u001b[0m \u001b[1;34m'blood_pressure'\u001b[0m\u001b[1;33m:\u001b[0m\u001b[1;34m'BloodPressure'\u001b[0m\u001b[1;33m,\u001b[0m \u001b[1;34m'skin_fold_thickness'\u001b[0m\u001b[1;33m:\u001b[0m\u001b[1;34m'SkinThickness'\u001b[0m\u001b[1;33m,\u001b[0m \u001b[1;34m'serum_insulin'\u001b[0m\u001b[1;33m:\u001b[0m \u001b[1;34m'Insulin'\u001b[0m\u001b[1;33m,\u001b[0m \u001b[1;34m'bmi'\u001b[0m\u001b[1;33m:\u001b[0m\u001b[1;34m'BMI'\u001b[0m\u001b[1;33m,\u001b[0m \u001b[1;34m'diabetes pedigree'\u001b[0m\u001b[1;33m:\u001b[0m \u001b[1;34m'DiabetesPedigreeFunction'\u001b[0m\u001b[1;33m,\u001b[0m \u001b[1;34m'age'\u001b[0m\u001b[1;33m:\u001b[0m \u001b[1;34m'Age'\u001b[0m\u001b[1;33m}\u001b[0m\u001b[1;33m)\u001b[0m\u001b[1;33m\u001b[0m\u001b[1;33m\u001b[0m\u001b[0m\n\u001b[0m",
      "\u001b[1;31mNameError\u001b[0m: name 'test_df' is not defined"
     ]
    }
   ],
   "source": [
    "test_renamed = test_df.rename(columns = {'no_times_pregnant':'Pregnancies', 'glucose_concentration':'Glucose', 'blood_pressure':'BloodPressure', 'skin_fold_thickness':'SkinThickness', 'serum_insulin': 'Insulin', 'bmi':'BMI', 'diabetes pedigree': 'DiabetesPedigreeFunction', 'age': 'Age'})\n"
   ]
  },
  {
   "cell_type": "code",
   "execution_count": null,
   "id": "18a60a20-b67c-4a9c-80aa-8cb0bc2fc35d",
   "metadata": {},
   "outputs": [],
   "source": [
    "test_clean = test_renamed.drop('p_id', axis =1)\n"
   ]
  },
  {
   "cell_type": "code",
   "execution_count": null,
   "id": "cd6dabb1-678a-405c-bc34-0c17163b8c6e",
   "metadata": {},
   "outputs": [],
   "source": []
  },
  {
   "cell_type": "code",
   "execution_count": null,
   "id": "be903511-adea-4f34-84ed-e2992e0ff77d",
   "metadata": {},
   "outputs": [],
   "source": []
  },
  {
   "cell_type": "code",
   "execution_count": null,
   "id": "45d087ad-8dba-4801-9d8e-b27ac50f6b53",
   "metadata": {},
   "outputs": [],
   "source": []
  },
  {
   "cell_type": "code",
   "execution_count": null,
   "id": "d7bc9afb-af7d-43e6-af51-e33dc8545999",
   "metadata": {},
   "outputs": [],
   "source": []
  },
  {
   "cell_type": "code",
   "execution_count": null,
   "id": "eb384d13-71c0-4613-98b8-26321fbd88b3",
   "metadata": {},
   "outputs": [],
   "source": []
  }
 ],
 "metadata": {
  "kernelspec": {
   "display_name": "Python 3",
   "language": "python",
   "name": "python3"
  },
  "language_info": {
   "codemirror_mode": {
    "name": "ipython",
    "version": 3
   },
   "file_extension": ".py",
   "mimetype": "text/x-python",
   "name": "python",
   "nbconvert_exporter": "python",
   "pygments_lexer": "ipython3",
   "version": "3.8.8"
  }
 },
 "nbformat": 4,
 "nbformat_minor": 5
}
