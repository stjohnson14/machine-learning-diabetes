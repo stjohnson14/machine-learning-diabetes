{
 "cells": [
  {
   "cell_type": "code",
   "execution_count": 7,
   "id": "0445e8a6-38e4-48b0-bb23-83267066d96b",
   "metadata": {
    "colab": {
     "base_uri": "https://localhost:8080/"
    },
    "collapsed": true,
    "executionInfo": {
     "elapsed": 3524,
     "status": "ok",
     "timestamp": 1638162696480,
     "user": {
      "displayName": "Bethany Morton",
      "photoUrl": "https://lh3.googleusercontent.com/a-/AOh14Gjv7uR1s_vrNigHCZp41mH0GLn6F_0o0DewJ8FlpA=s64",
      "userId": "08251322522809155553"
     },
     "user_tz": 300
    },
    "id": "0445e8a6-38e4-48b0-bb23-83267066d96b",
    "jupyter": {
     "outputs_hidden": true
    },
    "outputId": "43e970a7-77c9-4555-e623-e764b84196ee",
    "tags": []
   },
   "outputs": [
    {
     "name": "stdout",
     "output_type": "stream",
     "text": [
      "Requirement already satisfied: category_encoders in /usr/local/lib/python3.7/dist-packages (2.3.0)\n",
      "Requirement already satisfied: numpy>=1.14.0 in /usr/local/lib/python3.7/dist-packages (from category_encoders) (1.19.5)\n",
      "Requirement already satisfied: patsy>=0.5.1 in /usr/local/lib/python3.7/dist-packages (from category_encoders) (0.5.2)\n",
      "Requirement already satisfied: pandas>=0.21.1 in /usr/local/lib/python3.7/dist-packages (from category_encoders) (1.1.5)\n",
      "Requirement already satisfied: scipy>=1.0.0 in /usr/local/lib/python3.7/dist-packages (from category_encoders) (1.4.1)\n",
      "Requirement already satisfied: statsmodels>=0.9.0 in /usr/local/lib/python3.7/dist-packages (from category_encoders) (0.10.2)\n",
      "Requirement already satisfied: scikit-learn>=0.20.0 in /usr/local/lib/python3.7/dist-packages (from category_encoders) (1.0.1)\n",
      "Requirement already satisfied: python-dateutil>=2.7.3 in /usr/local/lib/python3.7/dist-packages (from pandas>=0.21.1->category_encoders) (2.8.2)\n",
      "Requirement already satisfied: pytz>=2017.2 in /usr/local/lib/python3.7/dist-packages (from pandas>=0.21.1->category_encoders) (2018.9)\n",
      "Requirement already satisfied: six in /usr/local/lib/python3.7/dist-packages (from patsy>=0.5.1->category_encoders) (1.15.0)\n",
      "Requirement already satisfied: joblib>=0.11 in /usr/local/lib/python3.7/dist-packages (from scikit-learn>=0.20.0->category_encoders) (1.1.0)\n",
      "Requirement already satisfied: threadpoolctl>=2.0.0 in /usr/local/lib/python3.7/dist-packages (from scikit-learn>=0.20.0->category_encoders) (3.0.0)\n"
     ]
    }
   ],
   "source": [
    "pip install --upgrade category_encoders"
   ]
  },
  {
   "cell_type": "code",
   "execution_count": 8,
   "id": "6fa7e381-9015-44c0-94ce-a9a1a7a2a34a",
   "metadata": {
    "executionInfo": {
     "elapsed": 150,
     "status": "ok",
     "timestamp": 1638162698293,
     "user": {
      "displayName": "Bethany Morton",
      "photoUrl": "https://lh3.googleusercontent.com/a-/AOh14Gjv7uR1s_vrNigHCZp41mH0GLn6F_0o0DewJ8FlpA=s64",
      "userId": "08251322522809155553"
     },
     "user_tz": 300
    },
    "id": "6fa7e381-9015-44c0-94ce-a9a1a7a2a34a"
   },
   "outputs": [],
   "source": [
    "import pandas as pd\n",
    "import numpy as np\n",
    "\n",
    "import category_encoders as ce"
   ]
  },
  {
   "cell_type": "code",
   "execution_count": 9,
   "id": "e09adce0-52a2-4ff7-b19b-93251e9c9654",
   "metadata": {
    "executionInfo": {
     "elapsed": 246,
     "status": "ok",
     "timestamp": 1638162699858,
     "user": {
      "displayName": "Bethany Morton",
      "photoUrl": "https://lh3.googleusercontent.com/a-/AOh14Gjv7uR1s_vrNigHCZp41mH0GLn6F_0o0DewJ8FlpA=s64",
      "userId": "08251322522809155553"
     },
     "user_tz": 300
    },
    "id": "e09adce0-52a2-4ff7-b19b-93251e9c9654"
   },
   "outputs": [],
   "source": [
    "# pip install category_encoders\n",
    "pd.set_option('display.max_columns', None)\n",
    "pd.set_option('display.max_rows', None)"
   ]
  },
  {
   "cell_type": "code",
   "execution_count": 12,
   "id": "h32Y0X9ZF5W3",
   "metadata": {
    "colab": {
     "base_uri": "https://localhost:8080/",
     "height": 380,
     "resources": {
      "http://localhost:8080/nbextensions/google.colab/files.js": {
       "data": "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",
       "headers": [
        [
         "content-type",
         "application/javascript"
        ]
       ],
       "ok": true,
       "status": 200,
       "status_text": ""
      }
     }
    },
    "executionInfo": {
     "elapsed": 8949,
     "status": "error",
     "timestamp": 1638162776249,
     "user": {
      "displayName": "Bethany Morton",
      "photoUrl": "https://lh3.googleusercontent.com/a-/AOh14Gjv7uR1s_vrNigHCZp41mH0GLn6F_0o0DewJ8FlpA=s64",
      "userId": "08251322522809155553"
     },
     "user_tz": 300
    },
    "id": "h32Y0X9ZF5W3",
    "outputId": "04df9534-6051-47f2-9e07-381108092435"
   },
   "outputs": [
    {
     "data": {
      "text/html": [
       "\n",
       "     <input type=\"file\" id=\"files-1209fc22-1531-42ef-97fb-c4cb56b58890\" name=\"files[]\" multiple disabled\n",
       "        style=\"border:none\" />\n",
       "     <output id=\"result-1209fc22-1531-42ef-97fb-c4cb56b58890\">\n",
       "      Upload widget is only available when the cell has been executed in the\n",
       "      current browser session. Please rerun this cell to enable.\n",
       "      </output>\n",
       "      <script src=\"/nbextensions/google.colab/files.js\"></script> "
      ],
      "text/plain": [
       "<IPython.core.display.HTML object>"
      ]
     },
     "metadata": {},
     "output_type": "display_data"
    },
    {
     "ename": "MessageError",
     "evalue": "ignored",
     "output_type": "error",
     "traceback": [
      "\u001b[0;31m---------------------------------------------------------------------------\u001b[0m",
      "\u001b[0;31mMessageError\u001b[0m                              Traceback (most recent call last)",
      "\u001b[0;32m<ipython-input-12-21dc3c638f66>\u001b[0m in \u001b[0;36m<module>\u001b[0;34m()\u001b[0m\n\u001b[1;32m      1\u001b[0m \u001b[0;32mfrom\u001b[0m \u001b[0mgoogle\u001b[0m\u001b[0;34m.\u001b[0m\u001b[0mcolab\u001b[0m \u001b[0;32mimport\u001b[0m \u001b[0mfiles\u001b[0m\u001b[0;34m\u001b[0m\u001b[0;34m\u001b[0m\u001b[0m\n\u001b[0;32m----> 2\u001b[0;31m \u001b[0muploaded\u001b[0m \u001b[0;34m=\u001b[0m \u001b[0mfiles\u001b[0m\u001b[0;34m.\u001b[0m\u001b[0mupload\u001b[0m\u001b[0;34m(\u001b[0m\u001b[0;34m)\u001b[0m\u001b[0;34m\u001b[0m\u001b[0;34m\u001b[0m\u001b[0m\n\u001b[0m",
      "\u001b[0;32m/usr/local/lib/python3.7/dist-packages/google/colab/files.py\u001b[0m in \u001b[0;36mupload\u001b[0;34m()\u001b[0m\n\u001b[1;32m     70\u001b[0m     result = _output.eval_js(\n\u001b[1;32m     71\u001b[0m         'google.colab._files._uploadFilesContinue(\"{output_id}\")'.format(\n\u001b[0;32m---> 72\u001b[0;31m             output_id=output_id))\n\u001b[0m\u001b[1;32m     73\u001b[0m     \u001b[0;32mif\u001b[0m \u001b[0mresult\u001b[0m\u001b[0;34m[\u001b[0m\u001b[0;34m'action'\u001b[0m\u001b[0;34m]\u001b[0m \u001b[0;34m!=\u001b[0m \u001b[0;34m'append'\u001b[0m\u001b[0;34m:\u001b[0m\u001b[0;34m\u001b[0m\u001b[0;34m\u001b[0m\u001b[0m\n\u001b[1;32m     74\u001b[0m       \u001b[0;31m# JS side uses a generator of promises to process all of the files- some\u001b[0m\u001b[0;34m\u001b[0m\u001b[0;34m\u001b[0m\u001b[0;34m\u001b[0m\u001b[0m\n",
      "\u001b[0;32m/usr/local/lib/python3.7/dist-packages/google/colab/output/_js.py\u001b[0m in \u001b[0;36meval_js\u001b[0;34m(script, ignore_result, timeout_sec)\u001b[0m\n\u001b[1;32m     38\u001b[0m   \u001b[0;32mif\u001b[0m \u001b[0mignore_result\u001b[0m\u001b[0;34m:\u001b[0m\u001b[0;34m\u001b[0m\u001b[0;34m\u001b[0m\u001b[0m\n\u001b[1;32m     39\u001b[0m     \u001b[0;32mreturn\u001b[0m\u001b[0;34m\u001b[0m\u001b[0;34m\u001b[0m\u001b[0m\n\u001b[0;32m---> 40\u001b[0;31m   \u001b[0;32mreturn\u001b[0m \u001b[0m_message\u001b[0m\u001b[0;34m.\u001b[0m\u001b[0mread_reply_from_input\u001b[0m\u001b[0;34m(\u001b[0m\u001b[0mrequest_id\u001b[0m\u001b[0;34m,\u001b[0m \u001b[0mtimeout_sec\u001b[0m\u001b[0;34m)\u001b[0m\u001b[0;34m\u001b[0m\u001b[0;34m\u001b[0m\u001b[0m\n\u001b[0m\u001b[1;32m     41\u001b[0m \u001b[0;34m\u001b[0m\u001b[0m\n\u001b[1;32m     42\u001b[0m \u001b[0;34m\u001b[0m\u001b[0m\n",
      "\u001b[0;32m/usr/local/lib/python3.7/dist-packages/google/colab/_message.py\u001b[0m in \u001b[0;36mread_reply_from_input\u001b[0;34m(message_id, timeout_sec)\u001b[0m\n\u001b[1;32m    104\u001b[0m         reply.get('colab_msg_id') == message_id):\n\u001b[1;32m    105\u001b[0m       \u001b[0;32mif\u001b[0m \u001b[0;34m'error'\u001b[0m \u001b[0;32min\u001b[0m \u001b[0mreply\u001b[0m\u001b[0;34m:\u001b[0m\u001b[0;34m\u001b[0m\u001b[0;34m\u001b[0m\u001b[0m\n\u001b[0;32m--> 106\u001b[0;31m         \u001b[0;32mraise\u001b[0m \u001b[0mMessageError\u001b[0m\u001b[0;34m(\u001b[0m\u001b[0mreply\u001b[0m\u001b[0;34m[\u001b[0m\u001b[0;34m'error'\u001b[0m\u001b[0;34m]\u001b[0m\u001b[0;34m)\u001b[0m\u001b[0;34m\u001b[0m\u001b[0;34m\u001b[0m\u001b[0m\n\u001b[0m\u001b[1;32m    107\u001b[0m       \u001b[0;32mreturn\u001b[0m \u001b[0mreply\u001b[0m\u001b[0;34m.\u001b[0m\u001b[0mget\u001b[0m\u001b[0;34m(\u001b[0m\u001b[0;34m'data'\u001b[0m\u001b[0;34m,\u001b[0m \u001b[0;32mNone\u001b[0m\u001b[0;34m)\u001b[0m\u001b[0;34m\u001b[0m\u001b[0;34m\u001b[0m\u001b[0m\n\u001b[1;32m    108\u001b[0m \u001b[0;34m\u001b[0m\u001b[0m\n",
      "\u001b[0;31mMessageError\u001b[0m: RangeError: Maximum call stack size exceeded."
     ]
    }
   ],
   "source": [
    "from google.colab import files\n",
    "uploaded = files.upload()"
   ]
  },
  {
   "cell_type": "code",
   "execution_count": null,
   "id": "733d0f5a-7324-4f69-b22e-912929274809",
   "metadata": {
    "id": "733d0f5a-7324-4f69-b22e-912929274809"
   },
   "outputs": [],
   "source": [
    "import io\n",
    "readmission_df = pd.read_csv(io.BytesIO(uploaded['diabetic_data.csv']))\n",
    "readmission_df['diag_1'].head()"
   ]
  },
  {
   "cell_type": "code",
   "execution_count": null,
   "id": "1ab04201-f425-4387-9b20-fbcad31f5f04",
   "metadata": {
    "id": "1ab04201-f425-4387-9b20-fbcad31f5f04"
   },
   "outputs": [],
   "source": [
    "readmission_df.columns"
   ]
  },
  {
   "cell_type": "code",
   "execution_count": null,
   "id": "03c9fbd7-a924-4dd5-9f42-1ac5e0d4d681",
   "metadata": {
    "id": "03c9fbd7-a924-4dd5-9f42-1ac5e0d4d681"
   },
   "outputs": [],
   "source": [
    "# Drop: admission_source_id, payer_code, medical_specialty, number_inpatient, number_outpatient, number_emergency, weight, patient_nbr, medications\n",
    "readmission_cleaned = readmission_df.drop(columns=['admission_source_id', 'payer_code', 'medical_specialty', 'number_inpatient', 'number_outpatient', 'number_emergency', \n",
    "                                                  'weight', 'patient_nbr', 'metformin', 'repaglinide', 'nateglinide', 'chlorpropamide', 'glimepiride', 'acetohexamide', \n",
    "                                                           'glipizide', 'glyburide', 'tolbutamide', 'pioglitazone', 'rosiglitazone', 'acarbose', 'miglitol', 'troglitazone',\n",
    "                                                           'tolazamide', 'examide', 'citoglipton', 'insulin', 'glyburide-metformin', 'glipizide-metformin', \n",
    "                                                           'glimepiride-pioglitazone', 'metformin-rosiglitazone', 'metformin-pioglitazone', 'change', 'diabetesMed'])\n",
    "readmission_cleaned['diag_1'].head()"
   ]
  },
  {
   "cell_type": "code",
   "execution_count": null,
   "id": "6ecf3e31-ef96-4b17-9ff4-e0760ba8e500",
   "metadata": {
    "id": "6ecf3e31-ef96-4b17-9ff4-e0760ba8e500",
    "tags": []
   },
   "outputs": [],
   "source": [
    "readmission_cleaned = readmission_df.drop(columns=['admission_source_id', 'payer_code', 'medical_specialty', 'number_inpatient', 'number_outpatient', 'number_emergency', \n",
    "                                                  'weight', 'patient_nbr', 'metformin', 'repaglinide', 'nateglinide', 'chlorpropamide', 'glimepiride', 'acetohexamide', \n",
    "                                                           'glipizide', 'glyburide', 'tolbutamide', 'pioglitazone', 'rosiglitazone', 'acarbose', 'miglitol', 'troglitazone',\n",
    "                                                           'tolazamide', 'examide', 'citoglipton', 'insulin', 'glyburide-metformin', 'glipizide-metformin', \n",
    "                                                           'glimepiride-pioglitazone', 'metformin-rosiglitazone', 'metformin-pioglitazone', 'change', 'diabetesMed'])\n",
    "\n",
    "substring = \"V\"\n",
    "for i in range (0, len(readmission_cleaned['diag_1'])):\n",
    "    if substring in readmission_cleaned['diag_1'][i]:\n",
    "        readmission_cleaned['diag_1'][i]='2'\n",
    "        \n",
    "for i in range (0, len(readmission_cleaned['diag_2'])):\n",
    "    if substring in readmission_cleaned['diag_2'][i]:\n",
    "        readmission_cleaned['diag_2'][i]='2'\n",
    "        \n",
    "for i in range (0, len(readmission_cleaned['diag_3'])):\n",
    "    if substring in readmission_cleaned['diag_3'][i]:\n",
    "        readmission_cleaned['diag_3'][i]='2'\n",
    "        \n",
    "substring = \"?\"\n",
    "for i in range (0, len(readmission_cleaned['diag_1'])):\n",
    "    if substring in readmission_cleaned['diag_1'][i]:\n",
    "        readmission_cleaned['diag_1'][i]='2'\n",
    "        \n",
    "for i in range (0, len(readmission_cleaned['diag_2'])):\n",
    "    if substring in readmission_cleaned['diag_2'][i]:\n",
    "        readmission_cleaned['diag_2'][i]='2'\n",
    "        \n",
    "for i in range (0, len(readmission_cleaned['diag_3'])):\n",
    "    if substring in readmission_cleaned['diag_3'][i]:\n",
    "        readmission_cleaned['diag_3'][i]='2'\n",
    "\n",
    "substring = \"E\"\n",
    "for i in range (0, len(readmission_cleaned['diag_1'])):\n",
    "    if substring in readmission_cleaned['diag_1'][i]:\n",
    "        readmission_cleaned['diag_1'][i]='2'\n",
    "        \n",
    "for i in range (0, len(readmission_cleaned['diag_2'])):\n",
    "    if substring in readmission_cleaned['diag_2'][i]:\n",
    "        readmission_cleaned['diag_2'][i]='2'\n",
    "        \n",
    "for i in range (0, len(readmission_cleaned['diag_3'])):\n",
    "    if substring in readmission_cleaned['diag_3'][i]:\n",
    "        readmission_cleaned['diag_3'][i]='2'"
   ]
  },
  {
   "cell_type": "code",
   "execution_count": null,
   "id": "e498ee1c-b2d8-4504-9294-a57b8d171535",
   "metadata": {
    "id": "e498ee1c-b2d8-4504-9294-a57b8d171535"
   },
   "outputs": [],
   "source": [
    "readmission_cleaned['diag_1'].head()"
   ]
  },
  {
   "cell_type": "code",
   "execution_count": null,
   "id": "9554f14c-37d2-4d00-9f4b-7cfa0bbecdf6",
   "metadata": {
    "id": "9554f14c-37d2-4d00-9f4b-7cfa0bbecdf6",
    "tags": []
   },
   "outputs": [],
   "source": [
    "for i in range (0, len(readmission_cleaned['diag_1'])):\n",
    "    readmission_cleaned['diag_1'][i] = float(readmission_cleaned['diag_1'][i])\n",
    "        "
   ]
  },
  {
   "cell_type": "code",
   "execution_count": null,
   "id": "762898b3-27a1-4c73-9e57-5b77d70f05d7",
   "metadata": {
    "id": "762898b3-27a1-4c73-9e57-5b77d70f05d7",
    "tags": []
   },
   "outputs": [],
   "source": [
    "for i in range (0, len(readmission_cleaned['diag_2'])):\n",
    "    readmission_cleaned['diag_2'][i] = float(readmission_cleaned['diag_2'][i])\n",
    "        "
   ]
  },
  {
   "cell_type": "code",
   "execution_count": null,
   "id": "e52bacc6-abe0-4611-a21e-798e95926a3c",
   "metadata": {
    "id": "e52bacc6-abe0-4611-a21e-798e95926a3c",
    "tags": []
   },
   "outputs": [],
   "source": [
    "for i in range (0, len(readmission_cleaned['diag_3'])):\n",
    "    readmission_cleaned['diag_3'][i] = float(readmission_cleaned['diag_3'][i])"
   ]
  },
  {
   "cell_type": "code",
   "execution_count": null,
   "id": "eef2b510-9463-4f29-abca-4065b6098dfa",
   "metadata": {
    "id": "eef2b510-9463-4f29-abca-4065b6098dfa",
    "tags": []
   },
   "outputs": [],
   "source": [
    "# Making bins for diagnosis groups\n",
    "# 'Circulatory','Respiratory','Digestive','Diabetes','Injury','Musculoskeletal','Genitourinary','Neoplasms','Other'\n",
    "bin_names = ['Other','Neoplasms','Diabetes','Neoplasms','Other','Neoplasms','Other','Circulatory','Respiratory','Digestive','Genitourinary'\n",
    "             ,'Other','Neoplasms','Musculoskeletal','Other','Neoplasms','Circulatory','Respiratory','Digestive','Genitourinary',\n",
    "             'Neoplasms','Injury']\n",
    "bins = [0,139,249.99,250.99,279,289,319,389,459,519,579,629,679,709,739,759,784,785,786,787,788,799,1000]\n",
    "readmission_cleaned['diag_1'] = pd.cut(readmission_cleaned['diag_1'], bins, labels=bin_names, include_lowest=True, ordered = False)\n",
    "readmission_cleaned['diag_2'] = pd.cut(readmission_cleaned['diag_2'], bins, labels=bin_names, include_lowest=True, ordered = False)\n",
    "readmission_cleaned['diag_3'] = pd.cut(readmission_cleaned['diag_3'], bins, labels=bin_names, include_lowest=True, ordered = False)\n",
    "\n",
    "\n",
    "readmission_cleaned.head()"
   ]
  },
  {
   "cell_type": "code",
   "execution_count": null,
   "id": "ae44cbdc-4b66-4742-aff8-8917ac860ca0",
   "metadata": {
    "id": "ae44cbdc-4b66-4742-aff8-8917ac860ca0"
   },
   "outputs": [],
   "source": [
    "readmission_cleaned['readmitted'].value_counts()"
   ]
  },
  {
   "cell_type": "code",
   "execution_count": null,
   "id": "62c1c929-cacf-45dd-8985-17b87d5d0bc4",
   "metadata": {
    "id": "62c1c929-cacf-45dd-8985-17b87d5d0bc4"
   },
   "outputs": [],
   "source": [
    "readmission_cleaned[readmission_cleaned['readmitted'] == '>30'].head()"
   ]
  },
  {
   "cell_type": "code",
   "execution_count": null,
   "id": "be0b90b9-530d-41fa-8700-74fee963d5ce",
   "metadata": {
    "id": "be0b90b9-530d-41fa-8700-74fee963d5ce",
    "tags": []
   },
   "outputs": [],
   "source": [
    "readmission_cleaned['Target'] = readmission_cleaned['readmitted'].apply(lambda x: 1 if x == '<30' else 0)\n",
    "\n",
    "readmission_cleaned.head()"
   ]
  },
  {
   "cell_type": "code",
   "execution_count": null,
   "id": "9c4848c8-5715-437c-81b5-1603f3c38f77",
   "metadata": {
    "id": "9c4848c8-5715-437c-81b5-1603f3c38f77"
   },
   "outputs": [],
   "source": [
    "#readmission_cleaned['race'] = readmission_cleaned['race'].apply(lambda x: 'Other' if x == '?' else )\n",
    "#readmission_cleaned.head()"
   ]
  },
  {
   "cell_type": "code",
   "execution_count": null,
   "id": "fac60e0e-84ef-429e-b3ca-f5f42e0e8851",
   "metadata": {
    "id": "fac60e0e-84ef-429e-b3ca-f5f42e0e8851"
   },
   "outputs": [],
   "source": [
    "#readmission_nogender = readmission_cleaned.drop(['gender'] == 'Unknown/Invalid')"
   ]
  },
  {
   "cell_type": "code",
   "execution_count": null,
   "id": "e9b289f0-992c-4086-9d92-ccf70fc49a93",
   "metadata": {
    "id": "e9b289f0-992c-4086-9d92-ccf70fc49a93"
   },
   "outputs": [],
   "source": [
    "readmission_cleaned2 = readmission_cleaned.drop(columns=[\"readmitted\", 'encounter_id', 'admission_type_id', 'A1Cresult', 'max_glu_serum', 'discharge_disposition_id'])"
   ]
  },
  {
   "cell_type": "code",
   "execution_count": null,
   "id": "568b14f6-cb28-45bc-96b1-ccbd5dfa6a2a",
   "metadata": {
    "id": "568b14f6-cb28-45bc-96b1-ccbd5dfa6a2a"
   },
   "outputs": [],
   "source": [
    "# encode/get dummies: race, gender, age, admission_type_id, diag_1, diag_2, diag_3, number_diagnoses, max_glu_serum, A1Cresult\n",
    "ce_OHE = ce.OneHotEncoder(cols=['race','gender', 'age', 'diag_1', 'diag_2', 'diag_3', 'number_diagnoses'])\n",
    "\n",
    "readmission_encoded = ce_OHE.fit_transform(readmission_cleaned2)\n",
    "readmission_encoded.head()"
   ]
  },
  {
   "cell_type": "code",
   "execution_count": null,
   "id": "0b451878-cc77-44cd-8d2a-c5d97219642c",
   "metadata": {
    "id": "0b451878-cc77-44cd-8d2a-c5d97219642c",
    "tags": []
   },
   "outputs": [],
   "source": [
    "from matplotlib import pyplot as plt\n",
    "\n",
    "outliers = []\n",
    "bounds = {}\n",
    "\n",
    "for i in readmission_encoded.columns:\n",
    "    \n",
    "    factors = readmission_encoded[i]\n",
    "    fig1, ax1 = plt.subplots()\n",
    "    ax1.set_title('Factor')\n",
    "    ax1.set_ylabel('Range')\n",
    "    ax1.boxplot(factors)\n",
    "    print(i)\n",
    "    quartiles = np.quantile(factors,[.25,.75])\n",
    "    iqr = quartiles[1]-quartiles[0]\n",
    "    lower_bound = quartiles[0]-(1.5*iqr)\n",
    "    upper_bound = quartiles[1]+(1.5*iqr)\n",
    "    bounds[i] = (lower_bound, upper_bound)\n",
    "    potential_outliers = [i for i in factors if i < lower_bound or i > upper_bound]\n",
    "    #print(potential_outliers)\n",
    "    # plt.show()\n",
    "\n",
    "# When run, # of lab procedures and # of medications are only two columns with enough outliers worth mentioning.\n"
   ]
  },
  {
   "cell_type": "code",
   "execution_count": null,
   "id": "0091f0f2-d351-48e8-9d6a-fb11386c48dc",
   "metadata": {
    "id": "0091f0f2-d351-48e8-9d6a-fb11386c48dc"
   },
   "outputs": [],
   "source": []
  },
  {
   "cell_type": "code",
   "execution_count": null,
   "id": "de8e48a3-8e3b-4868-b321-982a632d2d22",
   "metadata": {
    "id": "de8e48a3-8e3b-4868-b321-982a632d2d22"
   },
   "outputs": [],
   "source": [
    "readmission_dict = readmission_encoded.to_dict()"
   ]
  },
  {
   "cell_type": "code",
   "execution_count": null,
   "id": "912510f6-3398-4d54-a349-4b0f6d112f31",
   "metadata": {
    "id": "912510f6-3398-4d54-a349-4b0f6d112f31"
   },
   "outputs": [],
   "source": [
    "from sklearn.datasets import load_breast_cancer\n",
    "from sklearn.decomposition import PCA\n",
    "from sklearn.pipeline import Pipeline\n",
    "from sklearn.preprocessing import StandardScaler\n",
    "from sklearn.model_selection import GridSearchCV\n",
    "from sklearn.model_selection import train_test_split\n",
    "from sklearn.svm import SVC"
   ]
  },
  {
   "cell_type": "code",
   "execution_count": null,
   "id": "35ad13cc-9bb0-4b98-a9cc-27f6dfe270bc",
   "metadata": {
    "id": "35ad13cc-9bb0-4b98-a9cc-27f6dfe270bc"
   },
   "outputs": [],
   "source": [
    "%matplotlib inline\n",
    "from sklearn.datasets import make_classification\n",
    "import numpy as np\n",
    "import pandas as pd\n",
    "from sklearn.ensemble import RandomForestClassifier\n",
    "from sklearn.linear_model import LogisticRegression\n",
    "from sklearn.model_selection import train_test_split\n",
    "from sklearn.preprocessing import StandardScaler"
   ]
  },
  {
   "cell_type": "code",
   "execution_count": null,
   "id": "b38a5bd6-23c6-4662-b77c-e98962c0681b",
   "metadata": {
    "id": "b38a5bd6-23c6-4662-b77c-e98962c0681b"
   },
   "outputs": [],
   "source": [
    "y = readmission_encoded.Target.values\n",
    "X = readmission_encoded.drop(columns=\"Target\").values"
   ]
  },
  {
   "cell_type": "code",
   "execution_count": null,
   "id": "42769c55-76c1-42e2-9397-c826a43d80b6",
   "metadata": {
    "id": "42769c55-76c1-42e2-9397-c826a43d80b6"
   },
   "outputs": [],
   "source": [
    "X_train, X_test, y_train, y_test = train_test_split(X, y) "
   ]
  },
  {
   "cell_type": "code",
   "execution_count": null,
   "id": "54b89453-6e7b-4df6-bdf7-63e8ff7800f7",
   "metadata": {
    "id": "54b89453-6e7b-4df6-bdf7-63e8ff7800f7"
   },
   "outputs": [],
   "source": [
    "scaler = StandardScaler().fit(X_train)\n",
    "X_train_scaled = scaler.transform(X_train)\n",
    "X_test_scaled = scaler.transform(X_test)"
   ]
  },
  {
   "cell_type": "code",
   "execution_count": null,
   "id": "1e09198e-b854-4aaf-b06a-ed0102f8374d",
   "metadata": {
    "id": "1e09198e-b854-4aaf-b06a-ed0102f8374d"
   },
   "outputs": [],
   "source": [
    "clf = RandomForestClassifier(random_state=1, n_estimators=500).fit(X_train_scaled, y_train)\n",
    "print(f'Training Score: {clf.score(X_train_scaled, y_train)}')\n",
    "print(f'Testing Score: {clf.score(X_test_scaled, y_test)}')"
   ]
  },
  {
   "cell_type": "code",
   "execution_count": null,
   "id": "4ed99c84-3b30-4994-940d-92167b44bc7f",
   "metadata": {
    "id": "4ed99c84-3b30-4994-940d-92167b44bc7f"
   },
   "outputs": [],
   "source": [
    "import pprint\n",
    "from sklearn.model_selection import RandomizedSearchCV\n",
    "from sklearn.ensemble import RandomForestRegressor\n",
    "from sklearn.model_selection import GridSearchCV"
   ]
  },
  {
   "cell_type": "code",
   "execution_count": null,
   "id": "303ad383-bab0-4781-825d-d648001a1166",
   "metadata": {
    "id": "303ad383-bab0-4781-825d-d648001a1166"
   },
   "outputs": [],
   "source": [
    "n_estimators = [int(x) for x in np.linspace(start = 200, stop = 2000, num = 10)]\n",
    "# Number of features to consider at every split\n",
    "max_features = ['auto', 'sqrt']\n",
    "# Maximum number of levels in tree\n",
    "max_depth = [int(x) for x in np.linspace(10, 110, num = 11)]\n",
    "max_depth.append(None)\n",
    "# Minimum number of samples required to split a node\n",
    "min_samples_split = [2, 5, 10]\n",
    "# Minimum number of samples required at each leaf node\n",
    "min_samples_leaf = [1, 2, 4]\n",
    "# Method of selecting samples for training each tree\n",
    "bootstrap = [True, False]\n",
    "# Create the random grid\n",
    "random_grid = {'n_estimators': n_estimators,\n",
    "               'max_features': max_features,\n",
    "               'max_depth': max_depth,\n",
    "               'min_samples_split': min_samples_split,\n",
    "               'min_samples_leaf': min_samples_leaf,\n",
    "               'bootstrap': bootstrap}\n",
    "random_grid"
   ]
  },
  {
   "cell_type": "code",
   "execution_count": null,
   "id": "aa6dd2bd-505b-4e3f-8e52-df3ac3b62ecb",
   "metadata": {
    "id": "aa6dd2bd-505b-4e3f-8e52-df3ac3b62ecb"
   },
   "outputs": [],
   "source": [
    "# First create the base model to tune\n",
    "rf = RandomForestRegressor()\n",
    "# Rndom search of parameters, using 5 fold cross validation, \n",
    "# search across 100 different combinations, and use all available cores\n",
    "rf_random = RandomizedSearchCV(estimator = rf, param_distributions = random_grid, n_iter = 100, cv = 3, verbose=2, random_state=42, n_jobs = -1)\n",
    "# Fit the random search model\n",
    "rf_random.fit(X_train, y_train)"
   ]
  },
  {
   "cell_type": "code",
   "execution_count": null,
   "id": "322172ed-3e9e-4757-9de3-6bda208a4eb9",
   "metadata": {
    "id": "322172ed-3e9e-4757-9de3-6bda208a4eb9"
   },
   "outputs": [],
   "source": [
    "rf_random.best_params_"
   ]
  },
  {
   "cell_type": "code",
   "execution_count": null,
   "id": "80a89bb2-5b58-48e4-b53d-be231cb5c523",
   "metadata": {
    "id": "80a89bb2-5b58-48e4-b53d-be231cb5c523"
   },
   "outputs": [],
   "source": [
    "clf = RandomForestClassifier(n_estimators=800, max_depth =90, min_samples_split =2, min_samples_leaf =4, max_features = 'sqrt').fit(X_train_scaled, y_train)\n",
    "print(f'Training Score: {clf.score(X_train_scaled, y_train)}')\n",
    "print(f'Testing Score: {clf.score(X_test_scaled, y_test)}')"
   ]
  },
  {
   "cell_type": "code",
   "execution_count": null,
   "id": "6b7e48c8-9737-4813-a6f8-5f644302ed0d",
   "metadata": {
    "id": "6b7e48c8-9737-4813-a6f8-5f644302ed0d"
   },
   "outputs": [],
   "source": [
    "#Neural Network added for comparison purposes as this is a large dataset.\n",
    "#Utilizes potential operations that recognize relationships \n",
    "#between vast amounts of data. Again, data from readmission_encoded utilized"
   ]
  },
  {
   "cell_type": "code",
   "execution_count": null,
   "id": "75e62b2d-99d0-4926-9427-19fb8c296f2e",
   "metadata": {
    "id": "75e62b2d-99d0-4926-9427-19fb8c296f2e"
   },
   "outputs": [],
   "source": [
    "import tensorflow as tf"
   ]
  },
  {
   "cell_type": "code",
   "execution_count": null,
   "id": "16459515-f4b8-4209-a00e-5edad4dc6e80",
   "metadata": {
    "id": "16459515-f4b8-4209-a00e-5edad4dc6e80"
   },
   "outputs": [],
   "source": [
    "y = readmission_encoded.Target.values\n",
    "X = readmission_encoded.drop(columns=\"Target\").values"
   ]
  },
  {
   "cell_type": "code",
   "execution_count": null,
   "id": "95736667-14da-4153-9d4b-06c901c4e03f",
   "metadata": {
    "id": "95736667-14da-4153-9d4b-06c901c4e03f"
   },
   "outputs": [],
   "source": [
    "X_train, X_test, y_train, y_test = train_test_split(X, y) "
   ]
  },
  {
   "cell_type": "code",
   "execution_count": null,
   "id": "54a1ab6a-8da1-48bc-911b-1c7df11188e1",
   "metadata": {
    "id": "54a1ab6a-8da1-48bc-911b-1c7df11188e1"
   },
   "outputs": [],
   "source": [
    "scaler = StandardScaler()\n",
    "\n",
    "X_scaler = scaler.fit(X_train)\n",
    "\n",
    "X_train_scaled = X_scaler.transform(X_train)\n",
    "X_test_scaled = X_scaler.transform(X_test)"
   ]
  },
  {
   "cell_type": "code",
   "execution_count": null,
   "id": "184dcbed-9c09-4175-b981-3fb51e4b950c",
   "metadata": {
    "id": "184dcbed-9c09-4175-b981-3fb51e4b950c"
   },
   "outputs": [],
   "source": [
    "# Starting with two hidden layers\n",
    "\n",
    "number_input_features = len(X_train[0])\n",
    "hidden_nodes_layer1 =  8\n",
    "hidden_nodes_layer2 = 5\n",
    "\n",
    "nn = tf.keras.models.Sequential()\n",
    "\n",
    "# First hidden layer\n",
    "nn.add(\n",
    "    tf.keras.layers.Dense(units=hidden_nodes_layer1, input_dim=number_input_features, activation=\"relu\")\n",
    ")\n",
    "\n",
    "# Second hidden layer\n",
    "nn.add(tf.keras.layers.Dense(units=hidden_nodes_layer2, activation=\"relu\"))\n",
    "\n",
    "# Output layer\n",
    "nn.add(tf.keras.layers.Dense(units=1, activation=\"sigmoid\"))\n",
    "\n",
    "nn.summary()"
   ]
  },
  {
   "cell_type": "code",
   "execution_count": null,
   "id": "c3ff51a8-d78b-4b2f-9e7b-84add6e75fcb",
   "metadata": {
    "id": "c3ff51a8-d78b-4b2f-9e7b-84add6e75fcb"
   },
   "outputs": [],
   "source": [
    "fit_model = nn.fit(X_train_scaled,y_train,epochs=100)"
   ]
  },
  {
   "cell_type": "code",
   "execution_count": null,
   "id": "f043c7ab-d6ae-48d9-9a5f-7eaa45f4d182",
   "metadata": {
    "id": "f043c7ab-d6ae-48d9-9a5f-7eaa45f4d182"
   },
   "outputs": [],
   "source": [
    "model_loss, model_accuracy = nn.evaluate(X_test_scaled,y_test,verbose=2)\n",
    "print(f\"Loss: {model_loss}, Accuracy: {model_accuracy}\")"
   ]
  }
 ],
 "metadata": {
  "colab": {
   "collapsed_sections": [],
   "name": "Copy of THIS ONE- ReadmissionCleaner (1).ipynb",
   "provenance": [
    {
     "file_id": "1v4bgTimfgcMLTvcerS8SGGUHf6VLjz2B",
     "timestamp": 1638162871330
    }
   ]
  },
  "kernelspec": {
   "display_name": "Python 3",
   "language": "python",
   "name": "python3"
  },
  "language_info": {
   "codemirror_mode": {
    "name": "ipython",
    "version": 3
   },
   "file_extension": ".py",
   "mimetype": "text/x-python",
   "name": "python",
   "nbconvert_exporter": "python",
   "pygments_lexer": "ipython3",
   "version": "3.8.8"
  }
 },
 "nbformat": 4,
 "nbformat_minor": 5
}
